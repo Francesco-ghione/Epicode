{
 "cells": [
  {
   "cell_type": "code",
   "execution_count": 1,
   "id": "8e64b721",
   "metadata": {},
   "outputs": [],
   "source": [
    "import pandas as pd"
   ]
  },
  {
   "cell_type": "code",
   "execution_count": 2,
   "id": "93357d1c",
   "metadata": {},
   "outputs": [],
   "source": [
    "data = pd.read_csv(\"owid-covid-data.csv\")"
   ]
  },
  {
   "cell_type": "code",
   "execution_count": 3,
   "id": "52513f87",
   "metadata": {},
   "outputs": [
    {
     "name": "stdout",
     "output_type": "stream",
     "text": [
      "Numero di righe: 350048\n",
      "numero di colonne: 67\n"
     ]
    }
   ],
   "source": [
    "numero_righe, numero_colonne = data.shape\n",
    "print(f\"Numero di righe: {numero_righe}\")\n",
    "print(f\"numero di colonne: {numero_colonne}\")"
   ]
  },
  {
   "cell_type": "code",
   "execution_count": 4,
   "id": "f1c51c5e",
   "metadata": {},
   "outputs": [
    {
     "name": "stdout",
     "output_type": "stream",
     "text": [
      "Intestazioni:\n",
      "['iso_code', 'continent', 'location', 'date', 'total_cases', 'new_cases', 'new_cases_smoothed', 'total_deaths', 'new_deaths', 'new_deaths_smoothed', 'total_cases_per_million', 'new_cases_per_million', 'new_cases_smoothed_per_million', 'total_deaths_per_million', 'new_deaths_per_million', 'new_deaths_smoothed_per_million', 'reproduction_rate', 'icu_patients', 'icu_patients_per_million', 'hosp_patients', 'hosp_patients_per_million', 'weekly_icu_admissions', 'weekly_icu_admissions_per_million', 'weekly_hosp_admissions', 'weekly_hosp_admissions_per_million', 'total_tests', 'new_tests', 'total_tests_per_thousand', 'new_tests_per_thousand', 'new_tests_smoothed', 'new_tests_smoothed_per_thousand', 'positive_rate', 'tests_per_case', 'tests_units', 'total_vaccinations', 'people_vaccinated', 'people_fully_vaccinated', 'total_boosters', 'new_vaccinations', 'new_vaccinations_smoothed', 'total_vaccinations_per_hundred', 'people_vaccinated_per_hundred', 'people_fully_vaccinated_per_hundred', 'total_boosters_per_hundred', 'new_vaccinations_smoothed_per_million', 'new_people_vaccinated_smoothed', 'new_people_vaccinated_smoothed_per_hundred', 'stringency_index', 'population_density', 'median_age', 'aged_65_older', 'aged_70_older', 'gdp_per_capita', 'extreme_poverty', 'cardiovasc_death_rate', 'diabetes_prevalence', 'female_smokers', 'male_smokers', 'handwashing_facilities', 'hospital_beds_per_thousand', 'life_expectancy', 'human_development_index', 'population', 'excess_mortality_cumulative_absolute', 'excess_mortality_cumulative', 'excess_mortality', 'excess_mortality_cumulative_per_million']\n"
     ]
    }
   ],
   "source": [
    "intestazioni = data.columns.tolist()\n",
    "print(\"Intestazioni:\")\n",
    "print(intestazioni)"
   ]
  },
  {
   "cell_type": "code",
   "execution_count": 5,
   "id": "6a87cd2c",
   "metadata": {},
   "outputs": [
    {
     "name": "stdout",
     "output_type": "stream",
     "text": [
      "       continent   total_cases\n",
      "0         Africa  1.083214e+10\n",
      "1           Asia  1.654005e+11\n",
      "2         Europe  1.637914e+11\n",
      "3  North America  9.119385e+10\n",
      "4        Oceania  7.324359e+09\n",
      "5  South America  5.370432e+10\n"
     ]
    }
   ],
   "source": [
    "data = data[data['continent'].notna()]\n",
    "totale_casi_per_continente = data.groupby('continent')['total_cases'].sum().reset_index()\n",
    "print(totale_casi_per_continente)"
   ]
  },
  {
   "cell_type": "code",
   "execution_count": 6,
   "id": "9b04850c",
   "metadata": {},
   "outputs": [
    {
     "name": "stdout",
     "output_type": "stream",
     "text": [
      "       continent     total cases\n",
      "0         Africa  10,832,140,000\n",
      "1           Asia 165,400,500,000\n",
      "2         Europe 163,791,400,000\n",
      "3  North America  91,193,850,000\n",
      "4        Oceania   7,324,359,000\n",
      "5  South America  53,704,320,000\n"
     ]
    }
   ],
   "source": [
    "total_cases = {'continent' : ['Africa', 'Asia', 'Europe', 'North America', 'Oceania', 'South America'],\n",
    "              'total cases': [1.083214e+10, 1.654005e+11, 1.637914e+11, 9.119385e+10, 7.324359e+09, 5.370432e+10]}\n",
    "df = pd.DataFrame(total_cases)\n",
    "pd.options.display.float_format = '{:,.0f}'.format\n",
    "print(df)"
   ]
  },
  {
   "cell_type": "code",
   "execution_count": 7,
   "id": "4f6d9ddd",
   "metadata": {},
   "outputs": [],
   "source": [
    "def confronta_casi_totali(data, continente1, continente2):\n",
    "    df = pd.read_csv(\"owid-covid-data.csv\")\n",
    "    df = df[df['continent'].notna()]\n",
    "\n",
    "    totale_mondiale = df['total_cases'].sum()\n",
    "\n",
    "    df_continente1 = df[df['continent'] == continente1]\n",
    "    df_continente2 = df[df['continent'] == continente2]\n",
    "\n",
    "    minimo_continente1 = df_continente1['total_cases'].min()\n",
    "    massimo_continente1 = df_continente1['total_cases'].max()\n",
    "    media_continente1 = df_continente1['total_cases'].mean()\n",
    "    percentuale_continente1 = (df_continente1['total_cases'].sum() / totale_mondiale) * 100\n",
    "\n",
    "    minimo_continente2 = df_continente2['total_cases'].min()\n",
    "    massimo_continente2 = df_continente2['total_cases'].max()\n",
    "    media_continente2 = df_continente2['total_cases'].mean()\n",
    "    percentuale_continente2 = (df_continente2['total_cases'].sum() / totale_mondiale) * 100\n",
    "    \n",
    "    casi = {\n",
    "        'Minimo_Continente1': minimo_continente1,\n",
    "        'Massimo_Continente1': massimo_continente1,\n",
    "        'Media_Continente1': media_continente1,\n",
    "        'Percentuale_Continente1': percentuale_continente1,\n",
    "        'Minimo_Continente2': minimo_continente2,\n",
    "        'Massimo_Continente2': massimo_continente2,\n",
    "        'Media_Continente2': media_continente2,\n",
    "        'Percentuale_Continente2': percentuale_continente2\n",
    "    }\n",
    "    return casi\n"
   ]
  },
  {
   "cell_type": "code",
   "execution_count": 8,
   "id": "63766a58",
   "metadata": {},
   "outputs": [
    {
     "name": "stdout",
     "output_type": "stream",
     "text": [
      "{'Minimo_Continente1': 1.0, 'Massimo_Continente1': 4072533.0, 'Media_Continente1': 146828.68928077642, 'Percentuale_Continente1': 2.200551457329262, 'Minimo_Continente2': 1.0, 'Massimo_Continente2': 99315684.0, 'Media_Continente2': 2789263.323428726, 'Percentuale_Continente2': 33.60115152083928}\n"
     ]
    }
   ],
   "source": [
    "casi = confronta_casi_totali(\"owid-covid-data.csv\", 'Africa', 'Asia')\n",
    "print(casi)"
   ]
  },
  {
   "cell_type": "code",
   "execution_count": 9,
   "id": "a2cc17d7",
   "metadata": {},
   "outputs": [],
   "source": [
    "def confronta_vaccinazioni_totali(dataset, continente1, continente2):\n",
    "    df = pd.read_csv(dataset)\n",
    "    df = df[df['continent'].notna()]\n",
    "\n",
    "    totale_mondiale = df['total_vaccinations'].sum()\n",
    "\n",
    "    df_continente1 = df[df['continent'] == continente1]\n",
    "    df_continente2 = df[df['continent'] == continente2]\n",
    "\n",
    "    minimo_continente1 = df_continente1['total_vaccinations'].min()\n",
    "    massimo_continente1 = df_continente1['total_vaccinations'].max()\n",
    "    media_continente1 = df_continente1['total_vaccinations'].mean()\n",
    "    percentuale_continente1 = (df_continente1['total_vaccinations'].sum() / totale_mondiale) * 100\n",
    "\n",
    "    minimo_continente2 = df_continente2['total_vaccinations'].min()\n",
    "    massimo_continente2 = df_continente2['total_vaccinations'].max()\n",
    "    media_continente2 = df_continente2['total_vaccinations'].mean()\n",
    "    percentuale_continente2 = (df_continente2['total_vaccinations'].sum() / totale_mondiale) * 100\n",
    "\n",
    "    vaccinazioni = {\n",
    "        'Minimo_Continente1': minimo_continente1,\n",
    "        'Massimo_Continente1': massimo_continente1,\n",
    "        'Media_Continente1': media_continente1,\n",
    "        'Percentuale_Continente1': percentuale_continente1,\n",
    "        'Minimo_Continente2': minimo_continente2,\n",
    "        'Massimo_Continente2': massimo_continente2,\n",
    "        'Media_Continente2': media_continente2,\n",
    "        'Percentuale_Continente2': percentuale_continente2\n",
    "    }\n",
    "\n",
    "    return vaccinazioni\n"
   ]
  },
  {
   "cell_type": "code",
   "execution_count": 10,
   "id": "f3bc1dd9",
   "metadata": {},
   "outputs": [
    {
     "name": "stdout",
     "output_type": "stream",
     "text": [
      "{'Minimo_Continente1': 0.0, 'Massimo_Continente1': 130894625.0, 'Media_Continente1': 7968669.783330698, 'Percentuale_Continente1': 0.8686122043766332, 'Minimo_Continente2': 0.0, 'Massimo_Continente2': 3491077000.0, 'Media_Continente2': 221484701.12186107, 'Percentuale_Continente2': 70.24756301243882}\n"
     ]
    }
   ],
   "source": [
    "vaccinazioni = confronta_vaccinazioni_totali(\"owid-covid-data.csv\", 'Africa', 'Asia')\n",
    "print(vaccinazioni)"
   ]
  },
  {
   "cell_type": "code",
   "execution_count": 11,
   "id": "0369e7f7",
   "metadata": {},
   "outputs": [
    {
     "data": {
      "text/plain": [
       "\"Nell'analisi dei dati relativi ai casi di COVID-19 e alle vaccinazioni, emergono notevoli differenze tra il continente europeo, sudamericano e oceanico. L'Europa presenta un elevato numero di casi totali e di vaccinazioni.  Al contrario, il Sud America evidenzia un numero significativo di casi, ma con una copertura vaccinale relativamente più bassa. Infine, l'Oceania mostra cifre notevolmente inferiori sia in termini di casi che di vaccinazioni, il che può indicare una situazione complessivamente più contenuta.\""
      ]
     },
     "execution_count": 11,
     "metadata": {},
     "output_type": "execute_result"
    }
   ],
   "source": [
    "\"Nell'analisi dei dati relativi ai casi di COVID-19 e alle vaccinazioni, emergono notevoli differenze tra il continente europeo, sudamericano e oceanico. L'Europa presenta un elevato numero di casi totali e di vaccinazioni.  Al contrario, il Sud America evidenzia un numero significativo di casi, ma con una copertura vaccinale relativamente più bassa. Infine, l'Oceania mostra cifre notevolmente inferiori sia in termini di casi che di vaccinazioni, il che può indicare una situazione complessivamente più contenuta.\" "
   ]
  },
  {
   "cell_type": "code",
   "execution_count": null,
   "id": "1ae51597",
   "metadata": {},
   "outputs": [],
   "source": []
  }
 ],
 "metadata": {
  "kernelspec": {
   "display_name": "Python 3 (ipykernel)",
   "language": "python",
   "name": "python3"
  },
  "language_info": {
   "codemirror_mode": {
    "name": "ipython",
    "version": 3
   },
   "file_extension": ".py",
   "mimetype": "text/x-python",
   "name": "python",
   "nbconvert_exporter": "python",
   "pygments_lexer": "ipython3",
   "version": "3.11.3"
  }
 },
 "nbformat": 4,
 "nbformat_minor": 5
}
