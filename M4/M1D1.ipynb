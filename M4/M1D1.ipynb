{
 "cells": [
  {
   "cell_type": "code",
   "execution_count": 1,
   "id": "98fce777",
   "metadata": {},
   "outputs": [],
   "source": [
    "student = 25"
   ]
  },
  {
   "cell_type": "code",
   "execution_count": 2,
   "id": "331d006d",
   "metadata": {},
   "outputs": [
    {
     "name": "stdout",
     "output_type": "stream",
     "text": [
      "25\n"
     ]
    }
   ],
   "source": [
    "print(student)"
   ]
  },
  {
   "cell_type": "code",
   "execution_count": 3,
   "id": "ced92993",
   "metadata": {},
   "outputs": [],
   "source": [
    "student2 = 3"
   ]
  },
  {
   "cell_type": "code",
   "execution_count": 4,
   "id": "aa0b9e70",
   "metadata": {},
   "outputs": [],
   "source": [
    "tot_student = student + student2"
   ]
  },
  {
   "cell_type": "code",
   "execution_count": 5,
   "id": "ec359795",
   "metadata": {},
   "outputs": [
    {
     "name": "stdout",
     "output_type": "stream",
     "text": [
      "28\n"
     ]
    }
   ],
   "source": [
    "print(tot_student)"
   ]
  },
  {
   "cell_type": "code",
   "execution_count": 6,
   "id": "48d90090",
   "metadata": {},
   "outputs": [],
   "source": [
    "lista = [1, 2, 3, 4, 5]"
   ]
  },
  {
   "cell_type": "code",
   "execution_count": 7,
   "id": "5a80d5ae",
   "metadata": {},
   "outputs": [
    {
     "name": "stdout",
     "output_type": "stream",
     "text": [
      "[1, 2, 3, 4, 5]\n"
     ]
    }
   ],
   "source": [
    "print(lista)"
   ]
  },
  {
   "cell_type": "code",
   "execution_count": 8,
   "id": "1117fdd3",
   "metadata": {},
   "outputs": [],
   "source": [
    "film = [\"The Truman Show\", \"Arancia Meccanica\", \"Il pianeta delle scimmie\"]"
   ]
  },
  {
   "cell_type": "code",
   "execution_count": 9,
   "id": "5b75cd88",
   "metadata": {},
   "outputs": [
    {
     "name": "stdout",
     "output_type": "stream",
     "text": [
      "['The Truman Show', 'Arancia Meccanica', 'Il pianeta delle scimmie']\n"
     ]
    }
   ],
   "source": [
    "print(film)"
   ]
  },
  {
   "cell_type": "code",
   "execution_count": null,
   "id": "d1cea188",
   "metadata": {},
   "outputs": [],
   "source": []
  }
 ],
 "metadata": {
  "kernelspec": {
   "display_name": "Python 3 (ipykernel)",
   "language": "python",
   "name": "python3"
  },
  "language_info": {
   "codemirror_mode": {
    "name": "ipython",
    "version": 3
   },
   "file_extension": ".py",
   "mimetype": "text/x-python",
   "name": "python",
   "nbconvert_exporter": "python",
   "pygments_lexer": "ipython3",
   "version": "3.10.9"
  }
 },
 "nbformat": 4,
 "nbformat_minor": 5
}
